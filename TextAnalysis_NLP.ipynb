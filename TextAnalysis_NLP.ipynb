{
  "nbformat": 4,
  "nbformat_minor": 0,
  "metadata": {
    "colab": {
      "provenance": [],
      "authorship_tag": "ABX9TyMJcR9BYd7f2DgeDbP1QAcv",
      "include_colab_link": true
    },
    "kernelspec": {
      "name": "python3",
      "display_name": "Python 3"
    },
    "language_info": {
      "name": "python"
    }
  },
  "cells": [
    {
      "cell_type": "markdown",
      "metadata": {
        "id": "view-in-github",
        "colab_type": "text"
      },
      "source": [
        "<a href=\"https://colab.research.google.com/github/jibbsmathew/TextAnalysis_NLP/blob/main/TextAnalysis_NLP.ipynb\" target=\"_parent\"><img src=\"https://colab.research.google.com/assets/colab-badge.svg\" alt=\"Open In Colab\"/></a>"
      ]
    },
    {
      "cell_type": "markdown",
      "source": [
        "# **Text Analysis using Python**"
      ],
      "metadata": {
        "id": "N37Df6clWdcF"
      }
    },
    {
      "cell_type": "markdown",
      "source": [
        "Text Analysis, also known as Text Mining or Natural Language Processing (NLP), is a technique used to extract meaningful information and insights from unstructured text data, including documents, emails, social media posts, customer reviews, and more. If you want to learn how to perform Text Analysis, this article is for you. In this article, I’ll take you through the task of Text Analysis using Python."
      ],
      "metadata": {
        "id": "U98XBkvQWq3b"
      }
    },
    {
      "cell_type": "markdown",
      "source": [],
      "metadata": {
        "id": "AMdaK5xbcsrI"
      }
    },
    {
      "cell_type": "markdown",
      "source": [
        "## Text Analysis: Process We Can Follow\n",
        "Text Analysis involves various techniques such as text preprocessing, sentiment analysis, named entity recognition, topic modelling, and text classification. Text analysis plays a crucial role in understanding and making sense of large volumes of text data, which is prevalent in various domains, including news articles, social media, customer reviews, and more.\n",
        "\n",
        "Below is the process you can follow for the task of Text Analysis as a Data Science professional:\n",
        "\n",
        "Gather the text data from various sources.\n",
        "Clean and preprocess the text data.\n",
        "Convert the text into a numerical format that machine learning algorithms can understand.\n",
        "Analyze the text data to gain insights.\n",
        "Create relevant features from the text data if necessary.\n",
        "Select appropriate NLP models for your task.\n",
        "So, the process of Text Analysis starts with collecting textual data (structured or unstructured)."
      ],
      "metadata": {
        "id": "T-s8Dz1ucxev"
      }
    },
    {
      "cell_type": "markdown",
      "source": [],
      "metadata": {
        "id": "26g83Y2nc-G5"
      }
    },
    {
      "cell_type": "code",
      "source": [
        "import pandas as pd\n",
        "import plotly.express as px\n",
        "from wordcloud import WordCloud\n",
        "import matplotlib.pyplot as plt\n",
        "from textblob import TextBlob\n",
        "import spacy\n",
        "from collections import defaultdict\n",
        "from collections import Counter\n",
        "from sklearn.feature_extraction.text import CountVectorizer\n",
        "from sklearn.decomposition import LatentDirichletAllocation\n",
        "\n",
        "nlp = spacy.load('en_core_web_sm')\n",
        "\n",
        "data = pd.read_csv(\"articles.csv\", encoding='latin-1')\n",
        "print(data.head())\n",
        "\n",
        "if 'google.colab' in sys.modules:\n",
        "    project_path =  \"/content/drive/My Drive/\"\n",
        "    # Google Colab lib\n",
        "    from google.colab import drive\n",
        "    # Mount the drive\n",
        "    drive.mount('/content/drive/', force_remount=True)\n",
        "    sys.path.append(project_path)\n",
        "    %cd $project_path"
      ],
      "metadata": {
        "id": "x8uBMOlgc4Mo"
      },
      "execution_count": null,
      "outputs": []
    }
  ]
}